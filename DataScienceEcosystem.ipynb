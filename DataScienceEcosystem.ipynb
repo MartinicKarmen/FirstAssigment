{
 "cells": [
  {
   "cell_type": "markdown",
   "id": "2f42952e-7d1f-49ab-a567-a83d16da238d",
   "metadata": {},
   "source": [
    "# Data Science Tools and Ecosystem"
   ]
  },
  {
   "cell_type": "markdown",
   "id": "1d65cc9d-5ae4-4618-aaef-6116d5a39692",
   "metadata": {},
   "source": [
    "In this notebook, Data Science Tools and Ecosystem are summarized."
   ]
  },
  {
   "cell_type": "markdown",
   "id": "64a87279-8e81-4bed-9a50-18cb527ed1fd",
   "metadata": {},
   "source": [
    "Objectives:\n",
    "\n",
    "- Languages mostly  used in Data Science\n",
    "- Using Jupyter notebook\n",
    "- Using GitHub"
   ]
  },
  {
   "cell_type": "markdown",
   "id": "2e4346a3-27b8-4bae-bd78-2a4850af5dc7",
   "metadata": {},
   "source": [
    "Some of the popular languages that Data Scientists use are:\n",
    "\n",
    "1. Python\n",
    "2. R\n",
    "3. Julia\n"
   ]
  },
  {
   "cell_type": "markdown",
   "id": "81ffaddb-d4a2-40fc-898e-d73c81546858",
   "metadata": {},
   "source": [
    "Some of the commonly used libraries used by Data Scientists include:\n",
    "1. NumPy\n",
    "2. SciPy\n",
    "3. Pandas\n"
   ]
  },
  {
   "cell_type": "markdown",
   "id": "2d9766cf-dbcb-4380-aee8-cf42adb3d84e",
   "metadata": {},
   "source": [
    "|Data Science Tools |\n",
    "|--------------------|\n",
    "| R Studio's  |\n",
    "| Jupyter Notebook|\n",
    "| TensorFlow|"
   ]
  },
  {
   "cell_type": "markdown",
   "id": "f7aa3f13-1573-4eda-9a32-2189cc86ec19",
   "metadata": {},
   "source": [
    "### Below are a few examples of evaluating arithmetic expressions in Python"
   ]
  },
  {
   "cell_type": "code",
   "execution_count": 2,
   "id": "e0b6b295-e4f2-4d9b-8e30-9dae71ebf3b8",
   "metadata": {},
   "outputs": [
    {
     "data": {
      "text/plain": [
       "17"
      ]
     },
     "execution_count": 2,
     "metadata": {},
     "output_type": "execute_result"
    }
   ],
   "source": [
    "# This a simple arithmetic expression to mutiply then add integers\n",
    "\n",
    "(3*4)+5"
   ]
  },
  {
   "cell_type": "code",
   "execution_count": 3,
   "id": "18eae32c-a982-4713-8ec6-994b69a2ee27",
   "metadata": {},
   "outputs": [
    {
     "data": {
      "text/plain": [
       "3.3333333333333335"
      ]
     },
     "execution_count": 3,
     "metadata": {},
     "output_type": "execute_result"
    }
   ],
   "source": [
    "# This will convert 200 minutes to hours by diving by 60\n",
    "\n",
    "200/60"
   ]
  },
  {
   "cell_type": "markdown",
   "id": "e3c1ed78-f7b8-4bba-990e-4002a5294d3d",
   "metadata": {},
   "source": [
    "## Author\n",
    "\n",
    "Karmen Martinic"
   ]
  },
  {
   "cell_type": "code",
   "execution_count": null,
   "id": "586a809c-a0be-430f-93c8-5db5ffb25ae4",
   "metadata": {},
   "outputs": [],
   "source": []
  }
 ],
 "metadata": {
  "kernelspec": {
   "display_name": "Python",
   "language": "python",
   "name": "conda-env-python-py"
  },
  "language_info": {
   "codemirror_mode": {
    "name": "ipython",
    "version": 3
   },
   "file_extension": ".py",
   "mimetype": "text/x-python",
   "name": "python",
   "nbconvert_exporter": "python",
   "pygments_lexer": "ipython3",
   "version": "3.7.12"
  }
 },
 "nbformat": 4,
 "nbformat_minor": 5
}
